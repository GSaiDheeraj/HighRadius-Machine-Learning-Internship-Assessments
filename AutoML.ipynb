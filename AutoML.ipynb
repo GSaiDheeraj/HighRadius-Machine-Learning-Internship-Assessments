{
 "cells": [
  {
   "cell_type": "code",
   "execution_count": 1,
   "metadata": {},
   "outputs": [],
   "source": [
    "import warnings\n",
    "warnings.filterwarnings('ignore')"
   ]
  },
  {
   "cell_type": "code",
   "execution_count": 2,
   "metadata": {},
   "outputs": [],
   "source": [
    "import pandas as pd"
   ]
  },
  {
   "cell_type": "code",
   "execution_count": 4,
   "metadata": {},
   "outputs": [],
   "source": [
    "df = pd.read_csv(\"output.csv\")"
   ]
  },
  {
   "cell_type": "code",
   "execution_count": 5,
   "metadata": {},
   "outputs": [],
   "source": [
    "x = df.drop(\"num_orders\", axis=1)\n",
    "y = df['num_orders']"
   ]
  },
  {
   "cell_type": "code",
   "execution_count": 6,
   "metadata": {},
   "outputs": [],
   "source": [
    "import evalml"
   ]
  },
  {
   "cell_type": "code",
   "execution_count": 7,
   "metadata": {},
   "outputs": [
    {
     "data": {
      "text/plain": [
       "[<ProblemTypes.BINARY: 'binary'>,\n",
       " <ProblemTypes.MULTICLASS: 'multiclass'>,\n",
       " <ProblemTypes.REGRESSION: 'regression'>,\n",
       " <ProblemTypes.TIME_SERIES_REGRESSION: 'time series regression'>,\n",
       " <ProblemTypes.TIME_SERIES_BINARY: 'time series binary'>,\n",
       " <ProblemTypes.TIME_SERIES_MULTICLASS: 'time series multiclass'>]"
      ]
     },
     "execution_count": 7,
     "metadata": {},
     "output_type": "execute_result"
    }
   ],
   "source": [
    "evalml.problem_types.ProblemTypes.all_problem_types"
   ]
  },
  {
   "cell_type": "code",
   "execution_count": 8,
   "metadata": {},
   "outputs": [],
   "source": [
    "X_train,X_test,y_train,y_test=evalml.preprocessing.split_data(x,y,problem_type='regression')"
   ]
  },
  {
   "cell_type": "code",
   "execution_count": 9,
   "metadata": {},
   "outputs": [],
   "source": [
    "from evalml import AutoMLSearch"
   ]
  },
  {
   "cell_type": "code",
   "execution_count": 10,
   "metadata": {},
   "outputs": [
    {
     "name": "stdout",
     "output_type": "stream",
     "text": [
      "Generating pipelines to search over...\n"
     ]
    }
   ],
   "source": [
    "automl=AutoMLSearch(X_train=X_train,y_train=y_train,problem_type='regression',max_batches=1,optimize_thresholds=True)"
   ]
  },
  {
   "cell_type": "code",
   "execution_count": 11,
   "metadata": {},
   "outputs": [
    {
     "name": "stdout",
     "output_type": "stream",
     "text": [
      "\n",
      "*****************************\n",
      "* Beginning pipeline search *\n",
      "*****************************\n",
      "\n",
      "Optimizing for R2. \n",
      "Greater score is better.\n",
      "\n",
      "Using SequentialEngine to train and score pipelines.\n",
      "Searching up to 1 batches for a total of 9 pipelines. \n",
      "Allowed model families: decision_tree, xgboost, linear_model, extra_trees, lightgbm, random_forest, catboost\n",
      "\n"
     ]
    },
    {
     "data": {
      "application/vnd.jupyter.widget-view+json": {
       "model_id": "01fde88064e94fdba8fd1c348b451cbb",
       "version_major": 2,
       "version_minor": 0
      },
      "text/plain": [
       "FigureWidget({\n",
       "    'data': [{'mode': 'lines+markers',\n",
       "              'name': 'Best Score',\n",
       "              'type'…"
      ]
     },
     "metadata": {},
     "output_type": "display_data"
    },
    {
     "name": "stdout",
     "output_type": "stream",
     "text": [
      "Evaluating Baseline Pipeline: Mean Baseline Regression Pipeline\n",
      "Mean Baseline Regression Pipeline:\n",
      "\tStarting cross validation\n",
      "\tFinished cross validation - mean R2: -0.000\n",
      "\n",
      "*****************************\n",
      "* Evaluating Batch Number 1 *\n",
      "*****************************\n",
      "\n",
      "Linear Regressor w/ Imputer + One Hot Encoder + Standard Scaler:\n",
      "\tStarting cross validation\n",
      "\tFinished cross validation - mean R2: 0.638\n",
      "Decision Tree Regressor w/ Imputer + One Hot Encoder:\n",
      "\tStarting cross validation\n",
      "\tFinished cross validation - mean R2: 0.578\n",
      "Random Forest Regressor w/ Imputer + One Hot Encoder:\n",
      "\tStarting cross validation\n",
      "\tFinished cross validation - mean R2: 0.606\n",
      "LightGBM Regressor w/ Imputer + One Hot Encoder:\n",
      "\tStarting cross validation\n",
      "\tFinished cross validation - mean R2: 0.680\n",
      "Elastic Net Regressor w/ Imputer + One Hot Encoder + Standard Scaler:\n",
      "\tStarting cross validation\n",
      "\tFinished cross validation - mean R2: 0.152\n",
      "XGBoost Regressor w/ Imputer + One Hot Encoder:\n",
      "\tStarting cross validation\n",
      "\tFinished cross validation - mean R2: 0.796\n",
      "Extra Trees Regressor w/ Imputer + One Hot Encoder:\n",
      "\tStarting cross validation\n",
      "\tFinished cross validation - mean R2: 0.601\n",
      "CatBoost Regressor w/ Imputer:\n",
      "\tStarting cross validation\n",
      "\tFinished cross validation - mean R2: 0.219\n",
      "\n",
      "Search finished after 01:49            \n",
      "Best pipeline: XGBoost Regressor w/ Imputer + One Hot Encoder\n",
      "Best pipeline R2: 0.796280\n"
     ]
    }
   ],
   "source": [
    "automl.search()"
   ]
  },
  {
   "cell_type": "code",
   "execution_count": 12,
   "metadata": {},
   "outputs": [
    {
     "data": {
      "text/html": [
       "<div>\n",
       "<style scoped>\n",
       "    .dataframe tbody tr th:only-of-type {\n",
       "        vertical-align: middle;\n",
       "    }\n",
       "\n",
       "    .dataframe tbody tr th {\n",
       "        vertical-align: top;\n",
       "    }\n",
       "\n",
       "    .dataframe thead th {\n",
       "        text-align: right;\n",
       "    }\n",
       "</style>\n",
       "<table border=\"1\" class=\"dataframe\">\n",
       "  <thead>\n",
       "    <tr style=\"text-align: right;\">\n",
       "      <th></th>\n",
       "      <th>id</th>\n",
       "      <th>pipeline_name</th>\n",
       "      <th>mean_cv_score</th>\n",
       "      <th>standard_deviation_cv_score</th>\n",
       "      <th>validation_score</th>\n",
       "      <th>percent_better_than_baseline</th>\n",
       "      <th>high_variance_cv</th>\n",
       "      <th>parameters</th>\n",
       "    </tr>\n",
       "  </thead>\n",
       "  <tbody>\n",
       "    <tr>\n",
       "      <th>0</th>\n",
       "      <td>6</td>\n",
       "      <td>XGBoost Regressor w/ Imputer + One Hot Encoder</td>\n",
       "      <td>0.796280</td>\n",
       "      <td>NaN</td>\n",
       "      <td>0.796280</td>\n",
       "      <td>3.416946e+06</td>\n",
       "      <td>False</td>\n",
       "      <td>{'Imputer': {'categorical_impute_strategy': 'm...</td>\n",
       "    </tr>\n",
       "    <tr>\n",
       "      <th>1</th>\n",
       "      <td>4</td>\n",
       "      <td>LightGBM Regressor w/ Imputer + One Hot Encoder</td>\n",
       "      <td>0.679586</td>\n",
       "      <td>NaN</td>\n",
       "      <td>0.679586</td>\n",
       "      <td>2.916209e+06</td>\n",
       "      <td>False</td>\n",
       "      <td>{'Imputer': {'categorical_impute_strategy': 'm...</td>\n",
       "    </tr>\n",
       "    <tr>\n",
       "      <th>2</th>\n",
       "      <td>1</td>\n",
       "      <td>Linear Regressor w/ Imputer + One Hot Encoder ...</td>\n",
       "      <td>0.638347</td>\n",
       "      <td>NaN</td>\n",
       "      <td>0.638347</td>\n",
       "      <td>2.739252e+06</td>\n",
       "      <td>False</td>\n",
       "      <td>{'Imputer': {'categorical_impute_strategy': 'm...</td>\n",
       "    </tr>\n",
       "    <tr>\n",
       "      <th>3</th>\n",
       "      <td>3</td>\n",
       "      <td>Random Forest Regressor w/ Imputer + One Hot E...</td>\n",
       "      <td>0.606021</td>\n",
       "      <td>NaN</td>\n",
       "      <td>0.606021</td>\n",
       "      <td>2.600541e+06</td>\n",
       "      <td>False</td>\n",
       "      <td>{'Imputer': {'categorical_impute_strategy': 'm...</td>\n",
       "    </tr>\n",
       "    <tr>\n",
       "      <th>4</th>\n",
       "      <td>7</td>\n",
       "      <td>Extra Trees Regressor w/ Imputer + One Hot Enc...</td>\n",
       "      <td>0.601293</td>\n",
       "      <td>NaN</td>\n",
       "      <td>0.601293</td>\n",
       "      <td>2.580252e+06</td>\n",
       "      <td>False</td>\n",
       "      <td>{'Imputer': {'categorical_impute_strategy': 'm...</td>\n",
       "    </tr>\n",
       "    <tr>\n",
       "      <th>5</th>\n",
       "      <td>2</td>\n",
       "      <td>Decision Tree Regressor w/ Imputer + One Hot E...</td>\n",
       "      <td>0.577567</td>\n",
       "      <td>NaN</td>\n",
       "      <td>0.577567</td>\n",
       "      <td>2.478444e+06</td>\n",
       "      <td>False</td>\n",
       "      <td>{'Imputer': {'categorical_impute_strategy': 'm...</td>\n",
       "    </tr>\n",
       "    <tr>\n",
       "      <th>6</th>\n",
       "      <td>8</td>\n",
       "      <td>CatBoost Regressor w/ Imputer</td>\n",
       "      <td>0.218588</td>\n",
       "      <td>NaN</td>\n",
       "      <td>0.218588</td>\n",
       "      <td>9.380647e+05</td>\n",
       "      <td>False</td>\n",
       "      <td>{'Imputer': {'categorical_impute_strategy': 'm...</td>\n",
       "    </tr>\n",
       "    <tr>\n",
       "      <th>7</th>\n",
       "      <td>5</td>\n",
       "      <td>Elastic Net Regressor w/ Imputer + One Hot Enc...</td>\n",
       "      <td>0.152399</td>\n",
       "      <td>NaN</td>\n",
       "      <td>0.152399</td>\n",
       "      <td>6.540472e+05</td>\n",
       "      <td>False</td>\n",
       "      <td>{'Imputer': {'categorical_impute_strategy': 'm...</td>\n",
       "    </tr>\n",
       "    <tr>\n",
       "      <th>8</th>\n",
       "      <td>0</td>\n",
       "      <td>Mean Baseline Regression Pipeline</td>\n",
       "      <td>-0.000023</td>\n",
       "      <td>NaN</td>\n",
       "      <td>-0.000023</td>\n",
       "      <td>0.000000e+00</td>\n",
       "      <td>False</td>\n",
       "      <td>{'Baseline Regressor': {'strategy': 'mean'}}</td>\n",
       "    </tr>\n",
       "  </tbody>\n",
       "</table>\n",
       "</div>"
      ],
      "text/plain": [
       "   id                                      pipeline_name  mean_cv_score  \\\n",
       "0   6     XGBoost Regressor w/ Imputer + One Hot Encoder       0.796280   \n",
       "1   4    LightGBM Regressor w/ Imputer + One Hot Encoder       0.679586   \n",
       "2   1  Linear Regressor w/ Imputer + One Hot Encoder ...       0.638347   \n",
       "3   3  Random Forest Regressor w/ Imputer + One Hot E...       0.606021   \n",
       "4   7  Extra Trees Regressor w/ Imputer + One Hot Enc...       0.601293   \n",
       "5   2  Decision Tree Regressor w/ Imputer + One Hot E...       0.577567   \n",
       "6   8                      CatBoost Regressor w/ Imputer       0.218588   \n",
       "7   5  Elastic Net Regressor w/ Imputer + One Hot Enc...       0.152399   \n",
       "8   0                  Mean Baseline Regression Pipeline      -0.000023   \n",
       "\n",
       "   standard_deviation_cv_score  validation_score  \\\n",
       "0                          NaN          0.796280   \n",
       "1                          NaN          0.679586   \n",
       "2                          NaN          0.638347   \n",
       "3                          NaN          0.606021   \n",
       "4                          NaN          0.601293   \n",
       "5                          NaN          0.577567   \n",
       "6                          NaN          0.218588   \n",
       "7                          NaN          0.152399   \n",
       "8                          NaN         -0.000023   \n",
       "\n",
       "   percent_better_than_baseline  high_variance_cv  \\\n",
       "0                  3.416946e+06             False   \n",
       "1                  2.916209e+06             False   \n",
       "2                  2.739252e+06             False   \n",
       "3                  2.600541e+06             False   \n",
       "4                  2.580252e+06             False   \n",
       "5                  2.478444e+06             False   \n",
       "6                  9.380647e+05             False   \n",
       "7                  6.540472e+05             False   \n",
       "8                  0.000000e+00             False   \n",
       "\n",
       "                                          parameters  \n",
       "0  {'Imputer': {'categorical_impute_strategy': 'm...  \n",
       "1  {'Imputer': {'categorical_impute_strategy': 'm...  \n",
       "2  {'Imputer': {'categorical_impute_strategy': 'm...  \n",
       "3  {'Imputer': {'categorical_impute_strategy': 'm...  \n",
       "4  {'Imputer': {'categorical_impute_strategy': 'm...  \n",
       "5  {'Imputer': {'categorical_impute_strategy': 'm...  \n",
       "6  {'Imputer': {'categorical_impute_strategy': 'm...  \n",
       "7  {'Imputer': {'categorical_impute_strategy': 'm...  \n",
       "8       {'Baseline Regressor': {'strategy': 'mean'}}  "
      ]
     },
     "execution_count": 12,
     "metadata": {},
     "output_type": "execute_result"
    }
   ],
   "source": [
    "automl.rankings"
   ]
  },
  {
   "cell_type": "code",
   "execution_count": 13,
   "metadata": {},
   "outputs": [
    {
     "data": {
      "text/plain": [
       "pipeline = RegressionPipeline(component_graph=[Imputer, OneHotEncoder, XGBoostRegressor], parameters={'Imputer':{'categorical_impute_strategy': 'most_frequent', 'numeric_impute_strategy': 'mean', 'categorical_fill_value': None, 'numeric_fill_value': None}, 'One Hot Encoder':{'top_n': 10, 'features_to_encode': None, 'categories': None, 'drop': 'if_binary', 'handle_unknown': 'ignore', 'handle_missing': 'error'}, 'XGBoost Regressor':{'eta': 0.1, 'max_depth': 6, 'min_child_weight': 1, 'n_estimators': 100}}, random_seed=0)"
      ]
     },
     "execution_count": 13,
     "metadata": {},
     "output_type": "execute_result"
    }
   ],
   "source": [
    "automl.best_pipeline"
   ]
  },
  {
   "cell_type": "code",
   "execution_count": 14,
   "metadata": {},
   "outputs": [],
   "source": [
    "best_pipeline = automl.best_pipeline"
   ]
  },
  {
   "cell_type": "code",
   "execution_count": 15,
   "metadata": {},
   "outputs": [
    {
     "name": "stdout",
     "output_type": "stream",
     "text": [
      "\n",
      "**************************************************\n",
      "* XGBoost Regressor w/ Imputer + One Hot Encoder *\n",
      "**************************************************\n",
      "\n",
      "Problem Type: regression\n",
      "Model Family: XGBoost\n",
      "\n",
      "Pipeline Steps\n",
      "==============\n",
      "1. Imputer\n",
      "\t * categorical_impute_strategy : most_frequent\n",
      "\t * numeric_impute_strategy : mean\n",
      "\t * categorical_fill_value : None\n",
      "\t * numeric_fill_value : None\n",
      "2. One Hot Encoder\n",
      "\t * top_n : 10\n",
      "\t * features_to_encode : None\n",
      "\t * categories : None\n",
      "\t * drop : if_binary\n",
      "\t * handle_unknown : ignore\n",
      "\t * handle_missing : error\n",
      "3. XGBoost Regressor\n",
      "\t * eta : 0.1\n",
      "\t * max_depth : 6\n",
      "\t * min_child_weight : 1\n",
      "\t * n_estimators : 100\n",
      "\n",
      "Training\n",
      "========\n",
      "Training for regression problems.\n",
      "Total training time (including CV): 19.1 seconds\n",
      "\n",
      "Cross Validation\n",
      "----------------\n",
      "               R2 ExpVariance MaxError MedianAE   MSE   MAE Root Mean Squared Error # Training # Validation\n",
      "0           0.796       0.796    3.533    0.349 0.303 0.428                   0.550     91,309      273,929\n",
      "mean        0.796       0.796    3.533    0.349 0.303 0.428                   0.550          -            -\n",
      "std             -           -        -        -     -     -                       -          -            -\n",
      "coef of var     -           -        -        -     -     -                       -          -            -\n"
     ]
    }
   ],
   "source": [
    "automl.describe_pipeline(automl.rankings.iloc[0][\"id\"])"
   ]
  },
  {
   "cell_type": "code",
   "execution_count": 16,
   "metadata": {},
   "outputs": [],
   "source": [
    "scores = best_pipeline.score(X_test, y_test,  objectives=evalml.objectives.get_core_objectives('regression'))"
   ]
  },
  {
   "cell_type": "code",
   "execution_count": 17,
   "metadata": {},
   "outputs": [
    {
     "name": "stdout",
     "output_type": "stream",
     "text": [
      "OrderedDict([('ExpVariance', 0.7981113454000919), ('MaxError', 3.358474084416724), ('MedianAE', 0.346216236936868), ('MSE', 0.30024308396226296), ('MAE', 0.42575590895537946), ('R2', 0.7981084319203572), ('Root Mean Squared Error', 0.5479444168547235)])\n"
     ]
    }
   ],
   "source": [
    "print(scores)"
   ]
  },
  {
   "cell_type": "code",
   "execution_count": 18,
   "metadata": {},
   "outputs": [
    {
     "data": {
      "text/html": [
       "<div>\n",
       "<style scoped>\n",
       "    .dataframe tbody tr th:only-of-type {\n",
       "        vertical-align: middle;\n",
       "    }\n",
       "\n",
       "    .dataframe tbody tr th {\n",
       "        vertical-align: top;\n",
       "    }\n",
       "\n",
       "    .dataframe thead tr th {\n",
       "        text-align: left;\n",
       "    }\n",
       "</style>\n",
       "<table border=\"1\" class=\"dataframe\">\n",
       "  <thead>\n",
       "    <tr>\n",
       "      <th>Data Column</th>\n",
       "      <th>Unnamed: 0</th>\n",
       "      <th>id</th>\n",
       "      <th>week</th>\n",
       "      <th>center_id</th>\n",
       "      <th>meal_id</th>\n",
       "      <th>checkout_price</th>\n",
       "      <th>base_price</th>\n",
       "      <th>emailer_for_promotion</th>\n",
       "      <th>homepage_featured</th>\n",
       "      <th>category</th>\n",
       "      <th>cuisine</th>\n",
       "      <th>city_code</th>\n",
       "      <th>region_code</th>\n",
       "      <th>center_type</th>\n",
       "      <th>op_area</th>\n",
       "    </tr>\n",
       "    <tr>\n",
       "      <th>Physical Type</th>\n",
       "      <th>Int64</th>\n",
       "      <th>Int64</th>\n",
       "      <th>Int64</th>\n",
       "      <th>Int64</th>\n",
       "      <th>Int64</th>\n",
       "      <th>float64</th>\n",
       "      <th>float64</th>\n",
       "      <th>Int64</th>\n",
       "      <th>Int64</th>\n",
       "      <th>category</th>\n",
       "      <th>category</th>\n",
       "      <th>Int64</th>\n",
       "      <th>Int64</th>\n",
       "      <th>category</th>\n",
       "      <th>float64</th>\n",
       "    </tr>\n",
       "    <tr>\n",
       "      <th>Logical Type</th>\n",
       "      <th>Integer</th>\n",
       "      <th>Integer</th>\n",
       "      <th>Integer</th>\n",
       "      <th>Integer</th>\n",
       "      <th>Integer</th>\n",
       "      <th>Double</th>\n",
       "      <th>Double</th>\n",
       "      <th>Integer</th>\n",
       "      <th>Integer</th>\n",
       "      <th>Categorical</th>\n",
       "      <th>Categorical</th>\n",
       "      <th>Integer</th>\n",
       "      <th>Integer</th>\n",
       "      <th>Categorical</th>\n",
       "      <th>Double</th>\n",
       "    </tr>\n",
       "    <tr>\n",
       "      <th>Semantic Tag(s)</th>\n",
       "      <th>['numeric']</th>\n",
       "      <th>['numeric']</th>\n",
       "      <th>['numeric']</th>\n",
       "      <th>['numeric']</th>\n",
       "      <th>['numeric']</th>\n",
       "      <th>['numeric']</th>\n",
       "      <th>['numeric']</th>\n",
       "      <th>['numeric']</th>\n",
       "      <th>['numeric']</th>\n",
       "      <th>['category']</th>\n",
       "      <th>['category']</th>\n",
       "      <th>['numeric']</th>\n",
       "      <th>['numeric']</th>\n",
       "      <th>['category']</th>\n",
       "      <th>['numeric']</th>\n",
       "    </tr>\n",
       "  </thead>\n",
       "  <tbody>\n",
       "    <tr>\n",
       "      <th>141016</th>\n",
       "      <td>141016</td>\n",
       "      <td>1473139</td>\n",
       "      <td>48</td>\n",
       "      <td>81</td>\n",
       "      <td>2139</td>\n",
       "      <td>277.45</td>\n",
       "      <td>277.45</td>\n",
       "      <td>0</td>\n",
       "      <td>0</td>\n",
       "      <td>Beverages</td>\n",
       "      <td>Indian</td>\n",
       "      <td>526</td>\n",
       "      <td>34</td>\n",
       "      <td>TYPE_A</td>\n",
       "      <td>4.0</td>\n",
       "    </tr>\n",
       "    <tr>\n",
       "      <th>406574</th>\n",
       "      <td>406574</td>\n",
       "      <td>1220479</td>\n",
       "      <td>130</td>\n",
       "      <td>143</td>\n",
       "      <td>1216</td>\n",
       "      <td>414.25</td>\n",
       "      <td>413.25</td>\n",
       "      <td>0</td>\n",
       "      <td>0</td>\n",
       "      <td>Pasta</td>\n",
       "      <td>Italian</td>\n",
       "      <td>562</td>\n",
       "      <td>77</td>\n",
       "      <td>TYPE_B</td>\n",
       "      <td>3.8</td>\n",
       "    </tr>\n",
       "    <tr>\n",
       "      <th>189872</th>\n",
       "      <td>189872</td>\n",
       "      <td>1186734</td>\n",
       "      <td>64</td>\n",
       "      <td>146</td>\n",
       "      <td>2581</td>\n",
       "      <td>457.90</td>\n",
       "      <td>639.23</td>\n",
       "      <td>1</td>\n",
       "      <td>0</td>\n",
       "      <td>Pizza</td>\n",
       "      <td>Continental</td>\n",
       "      <td>526</td>\n",
       "      <td>34</td>\n",
       "      <td>TYPE_B</td>\n",
       "      <td>5.0</td>\n",
       "    </tr>\n",
       "    <tr>\n",
       "      <th>323934</th>\n",
       "      <td>323934</td>\n",
       "      <td>1209372</td>\n",
       "      <td>105</td>\n",
       "      <td>73</td>\n",
       "      <td>1770</td>\n",
       "      <td>411.28</td>\n",
       "      <td>486.03</td>\n",
       "      <td>0</td>\n",
       "      <td>0</td>\n",
       "      <td>Biryani</td>\n",
       "      <td>Indian</td>\n",
       "      <td>576</td>\n",
       "      <td>34</td>\n",
       "      <td>TYPE_A</td>\n",
       "      <td>4.0</td>\n",
       "    </tr>\n",
       "    <tr>\n",
       "      <th>142275</th>\n",
       "      <td>142275</td>\n",
       "      <td>1467845</td>\n",
       "      <td>48</td>\n",
       "      <td>23</td>\n",
       "      <td>2867</td>\n",
       "      <td>620.86</td>\n",
       "      <td>620.86</td>\n",
       "      <td>0</td>\n",
       "      <td>0</td>\n",
       "      <td>Seafood</td>\n",
       "      <td>Continental</td>\n",
       "      <td>698</td>\n",
       "      <td>23</td>\n",
       "      <td>TYPE_A</td>\n",
       "      <td>3.4</td>\n",
       "    </tr>\n",
       "  </tbody>\n",
       "</table>\n",
       "</div>"
      ],
      "text/plain": [
       "Data Column      Unnamed: 0          id        week   center_id     meal_id  \\\n",
       "Physical Type         Int64       Int64       Int64       Int64       Int64   \n",
       "Logical Type        Integer     Integer     Integer     Integer     Integer   \n",
       "Semantic Tag(s) ['numeric'] ['numeric'] ['numeric'] ['numeric'] ['numeric']   \n",
       "141016               141016     1473139          48          81        2139   \n",
       "406574               406574     1220479         130         143        1216   \n",
       "189872               189872     1186734          64         146        2581   \n",
       "323934               323934     1209372         105          73        1770   \n",
       "142275               142275     1467845          48          23        2867   \n",
       "\n",
       "Data Column     checkout_price  base_price emailer_for_promotion  \\\n",
       "Physical Type          float64     float64                 Int64   \n",
       "Logical Type            Double      Double               Integer   \n",
       "Semantic Tag(s)    ['numeric'] ['numeric']           ['numeric']   \n",
       "141016                  277.45      277.45                     0   \n",
       "406574                  414.25      413.25                     0   \n",
       "189872                  457.90      639.23                     1   \n",
       "323934                  411.28      486.03                     0   \n",
       "142275                  620.86      620.86                     0   \n",
       "\n",
       "Data Column     homepage_featured     category      cuisine   city_code  \\\n",
       "Physical Type               Int64     category     category       Int64   \n",
       "Logical Type              Integer  Categorical  Categorical     Integer   \n",
       "Semantic Tag(s)       ['numeric'] ['category'] ['category'] ['numeric']   \n",
       "141016                          0    Beverages       Indian         526   \n",
       "406574                          0        Pasta      Italian         562   \n",
       "189872                          0        Pizza  Continental         526   \n",
       "323934                          0      Biryani       Indian         576   \n",
       "142275                          0      Seafood  Continental         698   \n",
       "\n",
       "Data Column     region_code  center_type     op_area  \n",
       "Physical Type         Int64     category     float64  \n",
       "Logical Type        Integer  Categorical      Double  \n",
       "Semantic Tag(s) ['numeric'] ['category'] ['numeric']  \n",
       "141016                   34       TYPE_A         4.0  \n",
       "406574                   77       TYPE_B         3.8  \n",
       "189872                   34       TYPE_B         5.0  \n",
       "323934                   34       TYPE_A         4.0  \n",
       "142275                   23       TYPE_A         3.4  "
      ]
     },
     "execution_count": 18,
     "metadata": {},
     "output_type": "execute_result"
    }
   ],
   "source": [
    "X_train.head()"
   ]
  },
  {
   "cell_type": "code",
   "execution_count": null,
   "metadata": {},
   "outputs": [],
   "source": []
  }
 ],
 "metadata": {
  "kernelspec": {
   "display_name": "Python 3",
   "language": "python",
   "name": "python3"
  },
  "language_info": {
   "codemirror_mode": {
    "name": "ipython",
    "version": 3
   },
   "file_extension": ".py",
   "mimetype": "text/x-python",
   "name": "python",
   "nbconvert_exporter": "python",
   "pygments_lexer": "ipython3",
   "version": "3.6.12"
  }
 },
 "nbformat": 4,
 "nbformat_minor": 4
}
