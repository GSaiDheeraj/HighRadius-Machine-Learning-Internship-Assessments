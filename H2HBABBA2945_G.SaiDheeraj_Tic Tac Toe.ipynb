{
 "cells": [
  {
   "cell_type": "markdown",
   "metadata": {},
   "source": [
    "# -------------------------------------------Manual Mode-------------------------------------------------"
   ]
  },
  {
   "cell_type": "code",
   "execution_count": 12,
   "metadata": {},
   "outputs": [],
   "source": [
    "import time"
   ]
  },
  {
   "attachments": {
    "image.png": {
     "image/png": "[encoded data removed]"
    }
   },
   "cell_type": "markdown",
   "metadata": {},
   "source": [
    "## Step 1 : Initial Board\n",
    "\n",
    "#### Two Player tic tac toe game consists of 9 boxes in the board, initally lets create the board.\n",
    "\n",
    "![image.png](attachment:image.png)"
   ]
  },
  {
   "cell_type": "code",
   "execution_count": 13,
   "metadata": {},
   "outputs": [],
   "source": [
    "board = { 1 : ' ', 2 : ' ', 3: ' ',\n",
    "   4 : ' ', 5 : ' ', 6 : ' ', \n",
    "   7 : ' ', 8 : ' ', 9 : ' '}"
   ]
  },
  {
   "cell_type": "markdown",
   "metadata": {},
   "source": [
    "## Step 2 : Players\n",
    "\n",
    "1) Next we need the details of the players.                                                                                                      \n",
    "2) For that lets create a fucntion which helps in witing the X, O in the board                                                                                                      \n",
    "3) Let's consider palyers as \"Kohli\" and \"Ronaldo\"                                                                                                     \n",
    "4) Let's tak the help of Lists for assigning the O of Kohli and X for  Ronaldo                                                             \n",
    "5) Function maps the player with symbol"
   ]
  },
  {
   "cell_type": "code",
   "execution_count": 15,
   "metadata": {},
   "outputs": [],
   "source": [
    "current_player = ''#current player\n",
    "def player_detail(current_player): #function takes the palyer about to play as input and assigns the assigns the symbols\n",
    "    \n",
    "    if current_player == 'Kohli': # We assigned O for Ronaldo and X for Kohli manually using Lists\n",
    "        return ['Ronaldo','O']\n",
    "    else:\n",
    "        return ['Kohli','X']"
   ]
  },
  {
   "cell_type": "markdown",
   "metadata": {},
   "source": [
    "## Step 3 : User Input\n",
    "\n",
    "1) After deciding the symbols, Lets take the inputs from the palyer.                                                                         \n",
    "2) Since player should input symbol at a particular position, the function will take the input or position and symbol                                           \n",
    "\n",
    "\n",
    "------------ Corner Cases-------------                                                                                                  \n",
    "1) There is possibility of selecting the filled position"
   ]
  },
  {
   "cell_type": "code",
   "execution_count": 16,
   "metadata": {},
   "outputs": [],
   "source": [
    "def insert_input(position, marker): # function takes the input of position that player want to insert, and his symbol\n",
    "    \n",
    "    while board[position] != ' ':  # loop will start if the voard position was not empty \n",
    "        print(\"spot taken, pick another no.\") # if the position that was choosed by the player was not empty then function will ask for new position\n",
    "        position = int(input())  # asks the input that position that user wants to insert\n",
    "    board[position] = marker # place the marker in postion in the board"
   ]
  },
  {
   "cell_type": "markdown",
   "metadata": {},
   "source": [
    "## Step 4: Let's build the shape of the board\n",
    "\n",
    "#### Let's the shape of the 3x3 board"
   ]
  },
  {
   "cell_type": "code",
   "execution_count": 17,
   "metadata": {},
   "outputs": [],
   "source": [
    "def ttt_board(): # this function was divides the cell into 3x3\n",
    "    \n",
    "    for i in board:\n",
    "        print( i, ':', board[i], ' ', end='')\n",
    "        if i%3 == 0:\n",
    "            print()"
   ]
  },
  {
   "cell_type": "markdown",
   "metadata": {},
   "source": [
    "## Step 5 : Winning logic\n",
    "\n",
    "--- I think all the basic requirements were completed\n",
    "\n",
    "1) We developed logics for the board and taking inputs                                                                                    \n",
    "2) Now we need to develop logic for winning and tie                                                                                \n",
    "3) Winning is based on player and the position they place the symbol"
   ]
  },
  {
   "cell_type": "code",
   "execution_count": 18,
   "metadata": {},
   "outputs": [],
   "source": [
    "def win_game(marker, player_id): # logic for the winning the game.\n",
    "    '''if the markers at 1,2,3 positions are same then the user with respect to that user will win\n",
    "    if the markers at 4,5,6 positions are same then the user with respect to that user will win\n",
    "    if the markers at 7,8,9 positions are same then the user with respect to that user will win\n",
    "    if the markers at 1,4,7 positions are same then the user with respect to that user will win\n",
    "    if the markers at 2,5,8 positions are same then the user with respect to that user will win\n",
    "    if the markers at 3,6,9 positions are same then the user with respect to that user will win\n",
    "    if the markers at 1,5,9 positions are same then the user with respect to that user will win\n",
    "    if the markers at 3,5,7 positions are same then the user with respect to that user will win\n",
    "    \n",
    "    '''\n",
    "    \n",
    "    if board[1] == marker and board[2] == marker and board[3] == marker or \\\n",
    "    board[4] == marker and board[5] == marker and board[6] == marker or \\\n",
    "    board[7] == marker and board[8] == marker and board[9] == marker or \\\n",
    "    board[1] == marker and board[4] == marker and board[7] == marker or \\\n",
    "    board[2] == marker and board[5] == marker and board[8] == marker or \\\n",
    "    board[3] == marker and board[6] == marker and board[9] == marker or \\\n",
    "    board[1] == marker and board[5] == marker and board[9] == marker or \\\n",
    "    board[3] == marker and board[5] == marker and board[7] == marker:\n",
    "\n",
    "        ttt_board() \n",
    "        time.sleep(1) # we are initializing the 1 ns time for displaying the results \n",
    "        print(\"Player\", player_id, \"wins!\") \n",
    "        return True\n",
    "    \n",
    "    else:\n",
    "        return False"
   ]
  },
  {
   "cell_type": "markdown",
   "metadata": {},
   "source": [
    "## Step 6 : Tieing Logic\n",
    "\n",
    "1) We can compare the count and winner for tieing the game                                                                      \n",
    "2) Count is nothing but count of total moves till the point."
   ]
  },
  {
   "cell_type": "code",
   "execution_count": 19,
   "metadata": {},
   "outputs": [],
   "source": [
    "count = 0 # count variable stores the total number of moves \n",
    "if count == 9: # if all the 9 moves were completed and still no one wins, we print the match was tied\n",
    "        print(\"It's a tie!!\")\n",
    "        tie = True \n",
    "        ttt_board()"
   ]
  },
  {
   "cell_type": "markdown",
   "metadata": {},
   "source": [
    "## Step 7 : play again\n",
    "\n",
    "1) Since we cannot run the entire code once again we can build a play again funciton for continuing "
   ]
  },
  {
   "cell_type": "code",
   "execution_count": 20,
   "metadata": {},
   "outputs": [],
   "source": [
    "def play_again(): # this function ask for the input to play again after comleting the match\n",
    "   \n",
    "    print(\"Do you want to play again?\")  # This quesioin will be printed as soon as the match completed\n",
    "    play_again = input() # takes input from the keyboard\n",
    "\n",
    "    if play_again.upper() == 'Y': # if we give y or Y as input the game will restart again\n",
    "        for z in board:      \n",
    "            board[z] = ' '  # all the cells will become empty    \n",
    "        return True\n",
    "    else:\n",
    "        print(\"Thanks for playing. See you next time!\") # if the user gives the input other than y, then the match will end prints the thank you messae\n",
    "        return False"
   ]
  },
  {
   "cell_type": "markdown",
   "metadata": {},
   "source": [
    "### Driver Code"
   ]
  },
  {
   "cell_type": "code",
   "execution_count": 21,
   "metadata": {},
   "outputs": [
    {
     "name": "stdout",
     "output_type": "stream",
     "text": [
      "1 :    2 :    3 :    \n",
      "4 :    5 :    6 :    \n",
      "7 :    8 :    9 :    \n",
      "Player Kohli: Enter a number between 1 and 9\n",
      "1\n",
      "1 : X  2 :    3 :    \n",
      "4 :    5 :    6 :    \n",
      "7 :    8 :    9 :    \n",
      "Player Ronaldo: Enter a number between 1 and 9\n",
      "2\n",
      "1 : X  2 : O  3 :    \n",
      "4 :    5 :    6 :    \n",
      "7 :    8 :    9 :    \n",
      "Player Kohli: Enter a number between 1 and 9\n",
      "3\n",
      "1 : X  2 : O  3 : X  \n",
      "4 :    5 :    6 :    \n",
      "7 :    8 :    9 :    \n",
      "Player Ronaldo: Enter a number between 1 and 9\n",
      "4\n",
      "1 : X  2 : O  3 : X  \n",
      "4 : O  5 :    6 :    \n",
      "7 :    8 :    9 :    \n",
      "Player Kohli: Enter a number between 1 and 9\n",
      "5\n",
      "1 : X  2 : O  3 : X  \n",
      "4 : O  5 : X  6 :    \n",
      "7 :    8 :    9 :    \n",
      "Player Ronaldo: Enter a number between 1 and 9\n",
      "6\n",
      "1 : X  2 : O  3 : X  \n",
      "4 : O  5 : X  6 : O  \n",
      "7 :    8 :    9 :    \n",
      "Player Kohli: Enter a number between 1 and 9\n",
      "7\n",
      "1 : X  2 : O  3 : X  \n",
      "4 : O  5 : X  6 : O  \n",
      "7 : X  8 :    9 :    \n",
      "Player Kohli wins!\n",
      "Do you want to play again?\n",
      "y\n",
      "1 :    2 :    3 :    \n",
      "4 :    5 :    6 :    \n",
      "7 :    8 :    9 :    \n",
      "Player Ronaldo: Enter a number between 1 and 9\n",
      "2\n",
      "1 :    2 : O  3 :    \n",
      "4 :    5 :    6 :    \n",
      "7 :    8 :    9 :    \n",
      "Player Kohli: Enter a number between 1 and 9\n",
      "3\n",
      "1 :    2 : O  3 : X  \n",
      "4 :    5 :    6 :    \n",
      "7 :    8 :    9 :    \n",
      "Player Ronaldo: Enter a number between 1 and 9\n",
      "4\n",
      "1 :    2 : O  3 : X  \n",
      "4 : O  5 :    6 :    \n",
      "7 :    8 :    9 :    \n",
      "Player Kohli: Enter a number between 1 and 9\n",
      "5\n",
      "1 :    2 : O  3 : X  \n",
      "4 : O  5 : X  6 :    \n",
      "7 :    8 :    9 :    \n",
      "Player Ronaldo: Enter a number between 1 and 9\n",
      "6\n",
      "1 :    2 : O  3 : X  \n",
      "4 : O  5 : X  6 : O  \n",
      "7 :    8 :    9 :    \n",
      "Player Kohli: Enter a number between 1 and 9\n",
      "7\n",
      "1 :    2 : O  3 : X  \n",
      "4 : O  5 : X  6 : O  \n",
      "7 : X  8 :    9 :    \n",
      "Player Kohli wins!\n",
      "Do you want to play again?\n",
      "g\n",
      "Thanks for playing. See you next time!\n"
     ]
    }
   ],
   "source": [
    "play = True\n",
    "\n",
    "while play:\n",
    "\n",
    "    ttt_board() #initailly prints the board\n",
    "    \n",
    "    player_details = []\n",
    "    player_details = player_detail(current_player)\n",
    "    current_player = player_details[0]\n",
    "    print(\"Player {}: Enter a number between 1 and 9\".format(current_player))\n",
    "    input_slot = int(input())\n",
    "\n",
    "    #Inserting 'X' or 'O' in desired spot\n",
    "    insert_input(input_slot, player_details[1])\n",
    "    count += 1\n",
    "    \n",
    "    # Check if anybody won\n",
    "    winner = False\n",
    "    tie = False\n",
    "    winner = win_game(player_details[1], current_player)\n",
    "    if count == 9 and not winner:\n",
    "        print(\"It's a tie!!\")\n",
    "        tie = True\n",
    "        ttt_board()\n",
    "\n",
    "    # Check if players want to play again\n",
    "    if winner or tie:\n",
    "        play = play_again()\n",
    "        if play:\n",
    "            curr_player = ''\n",
    "            count = 0"
   ]
  },
  {
   "cell_type": "markdown",
   "metadata": {},
   "source": [
    "## Draw Backs of the Code\n",
    "\n",
    "1) It needs two persons for playing                                                                                                          \n",
    "2) If you rerun only the above cell, you'll never see the output. You have to run all the cells again                            \n",
    "3) If you get error in between, even if you rerun it'll start from where it ended previously. Actually this point is not drawback this can be a feature"
   ]
  },
  {
   "cell_type": "markdown",
   "metadata": {},
   "source": [
    "# -------------------------------Automated Tic-Tak-Toe with Bot ---------------------------------"
   ]
  },
  {
   "cell_type": "code",
   "execution_count": 61,
   "metadata": {},
   "outputs": [],
   "source": [
    "import random\n",
    "import sys"
   ]
  },
  {
   "cell_type": "markdown",
   "metadata": {},
   "source": [
    "## Step 1: \n",
    "\n",
    "1) Previously we created board manually this time lets create a board with 0-9 using \"for loop\""
   ]
  },
  {
   "cell_type": "code",
   "execution_count": 75,
   "metadata": {},
   "outputs": [],
   "source": [
    "board=[i for i in range(0,9)] #loop for 9 and creates a list with 9 spaces \n",
    "player, computer = '','' # initially player and computer was empty "
   ]
  },
  {
   "cell_type": "markdown",
   "metadata": {},
   "source": [
    "## Step 2 :This time lets build the shape of the board along with board"
   ]
  },
  {
   "cell_type": "code",
   "execution_count": 76,
   "metadata": {},
   "outputs": [
    {
     "name": "stdout",
     "output_type": "stream",
     "text": [
      "  |   |   \n",
      "----------\n",
      "  |   |   \n",
      "----------\n",
      "  |   |   \n",
      "----------\n"
     ]
    }
   ],
   "source": [
    "def print_board(): # the sunction will print the board  \n",
    "    x=1\n",
    "    counter = 0\n",
    "    for i in range(0,9): # loop of 9 space\n",
    "        if board[i] == 'X' or board[i] == 'O' :\n",
    "            print(board[i],end = ' ') # when ever we give input board will print again end = \" \" will make sure to print side by side\n",
    "        else :\n",
    "            print(\" \",end = ' ') # if there is no input prints empty cells\n",
    "        counter+=1    \n",
    "        if counter%3 ==0 :  # for every three cells, print statement will go to next line\n",
    "            print(\"\",end = '\\n----------\\n')       \n",
    "        else :\n",
    "            print(\"| \",end='')     \n",
    "print_board()"
   ]
  },
  {
   "cell_type": "markdown",
   "metadata": {},
   "source": [
    "## Step 3: Input\n",
    "\n",
    "#### Since we are using ranodom and computer is the player we cannot fix computer to paly with particular symbol so we can use random for assigning the random symbols for palyer "
   ]
  },
  {
   "cell_type": "code",
   "execution_count": 77,
   "metadata": {},
   "outputs": [],
   "source": [
    "def select_char():   # this function will randomly initializes the markers to the user and computer\n",
    "    if random.randint(0,1) == 0: # randomly selects the number either 0 or 1\n",
    "        return ('X','O') # if zero chooses X, O\n",
    "    return ('O','X') # else it'll give O,X"
   ]
  },
  {
   "cell_type": "markdown",
   "metadata": {},
   "source": [
    "## Step 4: Checking Inputs\n",
    "\n",
    "#### After taking inputs we have to cross check whether the cell was empty or not"
   ]
  },
  {
   "cell_type": "code",
   "execution_count": 85,
   "metadata": {},
   "outputs": [],
   "source": [
    "def can_move(brd, player, move): # this function will check whether the move is valid or not \n",
    "    tab=range(1,10)\n",
    "    if move in tab and brd[move-1] == move-1: \n",
    "        return True\n",
    "    return False"
   ]
  },
  {
   "cell_type": "markdown",
   "metadata": {},
   "source": [
    "## Step 5: Winning \n",
    "#### After taking inputs we have check for the winning condion or tie"
   ]
  },
  {
   "cell_type": "code",
   "execution_count": 79,
   "metadata": {},
   "outputs": [],
   "source": [
    "def can_win(brd, player, move): # function will check the winning \n",
    "    winners=((0,1,2),(3,4,5),(6,7,8),(0,3,6),(1,4,7),(2,5,8),(0,4,8),(2,4,6)) # all the possible chances of winning\n",
    "    places=[] # places will hold all the places all the filled places \n",
    "    x=0\n",
    "    for i in brd:\n",
    "        if i == player: places.append(x);\n",
    "        x+=1\n",
    "    win=True      \n",
    "    for tup in winners: # if the users input tuple matches with any tuple in the winners tuple then computer will declare win\n",
    "        win=True\n",
    "        for ix in tup:\n",
    "            if brd[ix] != player:\n",
    "                win=False\n",
    "                break\n",
    "        if win == True:\n",
    "            break\n",
    "    return win"
   ]
  },
  {
   "cell_type": "markdown",
   "metadata": {},
   "source": [
    "## Step 6: Making a move to win\n",
    "\n",
    "#### first computer will check whether there is a winning chance or not, if not then it'll consider the corner space and check for the empty spaces it'll make a move"
   ]
  },
  {
   "cell_type": "code",
   "execution_count": 80,
   "metadata": {},
   "outputs": [],
   "source": [
    "def make_move(brd, player, move, undo=False): # this function will make sure to select the winning move by computer\n",
    "    if can_move(brd, player, move): \n",
    "        brd[move-1] = player\n",
    "        win=can_win(brd, player, move)\n",
    "        if undo:\n",
    "            brd[move-1] = move-1\n",
    "        return (True, win)\n",
    "    return (False, False)"
   ]
  },
  {
   "cell_type": "markdown",
   "metadata": {},
   "source": [
    "## Step 7: Move if there is no winning chance\n",
    "\n",
    "#### All the indexes of empty spaces will be in empty_place list and if there is no chance of winning the computer will randomply select the space."
   ]
  },
  {
   "cell_type": "code",
   "execution_count": 81,
   "metadata": {},
   "outputs": [],
   "source": [
    "def random_move():\n",
    "    move=-1\n",
    "    empty_place = [] # here we will store the indexes that are not filled # If I can win, others don't matter.\n",
    "    for i in range(1,10):\n",
    "        if board[i-1] == i-1 :\n",
    "            empty_place.append(i)\n",
    "    if len(empty_place) > 0 :\n",
    "        idx = random.randint(0,len(empty_place)-1)  # we will choose a random position from the list and insert a symbol\n",
    "        move = empty_place[idx]\n",
    "        return make_move(board,computer,move)\n",
    " \n",
    "    return (False,False)"
   ]
  },
  {
   "cell_type": "markdown",
   "metadata": {},
   "source": [
    "## Driver Code"
   ]
  },
  {
   "cell_type": "code",
   "execution_count": 82,
   "metadata": {},
   "outputs": [
    {
     "name": "stdout",
     "output_type": "stream",
     "text": [
      "Player is [O] and computer is [X]\n",
      "Computer will play first.\n",
      "  |   |   \n",
      "----------\n",
      "  |   |   \n",
      "----------\n",
      "  |   |   \n",
      "----------\n",
      "\n",
      "X |   |   \n",
      "----------\n",
      "  |   |   \n",
      "----------\n",
      "  |   |   \n",
      "----------\n",
      "Make your move  [1-9] : 7\n",
      "X |   | X \n",
      "----------\n",
      "  |   |   \n",
      "----------\n",
      "O |   |   \n",
      "----------\n",
      "Make your move  [1-9] : 2\n",
      "X | O | X \n",
      "----------\n",
      "  |   |   \n",
      "----------\n",
      "O |   | X \n",
      "----------\n",
      "Make your move  [1-9] : 5\n",
      "X | O | X \n",
      "----------\n",
      "  | O | X \n",
      "----------\n",
      "O |   | X \n",
      "----------\n",
      " You lose !!\n"
     ]
    }
   ],
   "source": [
    "def computer_move():\n",
    "    move=-1  # computer will mark the symbol.\n",
    "    for i in range(1,10):\n",
    "        if make_move(board, computer, i, True)[1]:\n",
    "            move=i\n",
    "            break\n",
    "    if move == -1: # Player will mark the symbol .\n",
    "        for i in range(1,10):\n",
    "            if make_move(board, player, i, True)[1]:\n",
    "                move=i\n",
    "                break\n",
    "    if move == -1:  # If computer cannot win, then it'll make moves according to the given tuple.\n",
    "        moves=((1,7,3,9),(5,),(2,4,6,8)) #1739 are corner spaces 5 is middle space and 2468 are remaining spaces\n",
    "        for tup in moves:\n",
    "            for mv in tup:\n",
    "                if move == -1 and can_move(board, computer, mv):\n",
    "                    move=mv\n",
    "                    break\n",
    "    return make_move(board, computer, move)\n",
    "\n",
    "def is_full():\n",
    "    for i in range(0,9):\n",
    "        if board[i] == i:\n",
    "            return True\n",
    "    return False\n",
    "\n",
    "player, computer = select_char()\n",
    "print('Player is [%s] and computer is [%s]' % (player, computer))\n",
    "\n",
    "turn = random.randint(0,1)\n",
    "\n",
    "if turn == 0 :\n",
    "    print(\"Player will play first.\")\n",
    "else :\n",
    "    print(\"Computer will play first.\")\n",
    "    print_board()\n",
    "    computer_move()\n",
    "    print()\n",
    "\n",
    "\n",
    "result=\"It's a tie !!\"\n",
    "\n",
    "while is_full():\n",
    "    print_board()\n",
    "    print('Make your move  [1-9] : ', end='')\n",
    "    move = int(input())\n",
    "    moved, won = make_move(board, player, move)\n",
    "    if not moved:\n",
    "        print(' >> Invalid number ! Try again !')\n",
    "        continue\n",
    "\n",
    "    if won:\n",
    "        result=' You won !!'\n",
    "        break\n",
    "    elif computer_move()[1]:\n",
    "        result=' You lose !!'\n",
    "        break;\n",
    "\n",
    "print_board()\n",
    "print(result)"
   ]
  },
  {
   "attachments": {
    "image-3.png": {
     "image/png": "[encoded data removed]"
    }
   },
   "cell_type": "markdown",
   "metadata": {},
   "source": [
    "### Computer was too intelligent ![image-3.png](attachment:image-3.png)"
   ]
  },
  {
   "cell_type": "markdown",
   "metadata": {},
   "source": [
    "## Draw Backs of the Code\n",
    "                                                                                                        \n",
    "1) If you rerun only the above cell, you'll never see the output. You have to run all the cells again                            \n",
    "2) If you get error in between, even if you rerun it'll start from where it ended previously. Actually this point is not drawback this can be a feature                                                                                                      \n",
    "3) Computer was too intelligent, if it starts the game we will lose."
   ]
  },
  {
   "cell_type": "code",
   "execution_count": null,
   "metadata": {},
   "outputs": [],
   "source": []
  }
 ],
 "metadata": {
  "kernelspec": {
   "display_name": "Python 3",
   "language": "python",
   "name": "python3"
  },
  "language_info": {
   "codemirror_mode": {
    "name": "ipython",
    "version": 3
   },
   "file_extension": ".py",
   "mimetype": "text/x-python",
   "name": "python",
   "nbconvert_exporter": "python",
   "pygments_lexer": "ipython3",
   "version": "3.6.12"
  }
 },
 "nbformat": 4,
 "nbformat_minor": 4
}
